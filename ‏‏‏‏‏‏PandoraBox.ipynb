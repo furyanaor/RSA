{
 "cells": [
  {
   "cell_type": "markdown",
   "metadata": {},
   "source": [
    "<h1>Welcome to PandoraBox!</h1>\n",
    "<img src=\"./images/0.png\" alt=\"Scale\" style=\"width: 250px;\" align='left'/>\n",
    "<br><br><i>By: Naor Furyan & Tal Levi\n",
    "<br><br><br><br><br><b>Lecturer: Mica Barshap</b>\n",
    "<br><br><i>HiT Course: Blockchain vision and practice</i>\n",
    "<br><i>Coruse symbol: 67007</i>"
   ]
  },
  {
   "cell_type": "markdown",
   "metadata": {},
   "source": [
    "<b>Contents:</b>\n",
    "    1. Create an anonymous ETH account\n",
    "    2. Data-Encryption\n",
    "    3. Encrypted-Data Publishing\n",
    "    4. PandoraBox Feeding\n",
    "    5. PandoraBox Call-for-Action\n",
    "    6. Police-Decryption\n",
    "    7. Police call to the users"
   ]
  },
  {
   "cell_type": "markdown",
   "metadata": {},
   "source": [
    "<h1>1. Create an anonymous ETH account:</h1>"
   ]
  },
  {
   "cell_type": "markdown",
   "metadata": {},
   "source": [
    "<img src=\"./images/1.jpeg\" alt=\"Scale\" style=\"width: 700px;\" align='left'/>\n",
    "<img src=\"./images/2.jpeg\" alt=\"Scale\" style=\"width: 700px;\" align='left'/>"
   ]
  },
  {
   "cell_type": "markdown",
   "metadata": {},
   "source": [
    "<h1>2. Data-Encryption:</h1>"
   ]
  },
  {
   "cell_type": "code",
   "execution_count": null,
   "metadata": {},
   "outputs": [],
   "source": [
    "# User input\n",
    "password = \"a4a64d1bcb01c9ceefa2e41a7dbbaf49f180a9d755b7bd2fc1501b5991e009d3\" # user private-key \n",
    "target_fb = \"https://www.facebook.com/furyanaor/\" # or any other target unique ID\n",
    "complaint_form = \"Text for encryption + 054-222222\" # A complaint form *with* the contact details"
   ]
  },
  {
   "cell_type": "code",
   "execution_count": null,
   "metadata": {},
   "outputs": [],
   "source": [
    "# Smart contract output\n",
    "import pyaes, pbkdf2, binascii, os, secrets, hashlib\n",
    "\n",
    "hash_object = hashlib.sha1(target_fb.encode())\n",
    "target_fb_hash = hash_object.hexdigest()\n",
    "\n",
    "key = pbkdf2.PBKDF2(password, \"passwordSalt\").read(32)\n",
    "iv = secrets.randbits(256)\n",
    "aes = pyaes.AESModeOfOperationCTR(key, pyaes.Counter(iv))\n",
    "ciphertext = aes.encrypt(complaint_form)\n",
    "\n",
    "print(\"HASH Target: \", target_fb_hash)\n",
    "print('Encrypted Complaint Form:', (binascii.hexlify(ciphertext)).decode(\"utf-8\"))"
   ]
  },
  {
   "cell_type": "markdown",
   "metadata": {},
   "source": [
    "<h1>3. Encrypted-Data Publishing:</h1>"
   ]
  },
  {
   "cell_type": "markdown",
   "metadata": {},
   "source": [
    "<img src=\"./images/3.jpeg\" alt=\"Scale\" style=\"width: 700px;\" align='left'/>"
   ]
  },
  {
   "cell_type": "markdown",
   "metadata": {},
   "source": [
    "<h1>4. PandoraBox Feeding:</h1>"
   ]
  },
  {
   "cell_type": "code",
   "execution_count": 148,
   "metadata": {},
   "outputs": [
    {
     "name": "stdout",
     "output_type": "stream",
     "text": [
      "PandoraBox counting DB created successfuly:  {}\n"
     ]
    }
   ],
   "source": [
    "# *Pre-process* \n",
    "# Create a private counting db for PandoraBox\n",
    "targets_map = {}\n",
    "print(\"PandoraBox counting DB created successfuly: \", targets_map)"
   ]
  },
  {
   "cell_type": "code",
   "execution_count": null,
   "metadata": {},
   "outputs": [],
   "source": [
    "# User input\n",
    "transaction_hash = \"1234\" # put here the transaction-hash from Remix\n",
    "# web.3 -> tranastion_hash to target_id + public_address\n",
    "\n",
    "# *manual input:*\n",
    "hash_target_id = \"21f2efa01a7e1cb446049608a724c916bf2a9e0c0\"\n",
    "public_address = \"4112314552533136512458\""
   ]
  },
  {
   "cell_type": "code",
   "execution_count": null,
   "metadata": {},
   "outputs": [],
   "source": [
    "# PandoraBox DB\n",
    "if hash_target_id not in targets_map:\n",
    "    targets_map.setdefault(hash_target_id, [])\n",
    "targets_map[hash_target_id].append(public_address)\n",
    "\n",
    "print(\"Targets Map: \", targets_map)"
   ]
  },
  {
   "cell_type": "markdown",
   "metadata": {},
   "source": [
    "<h1>5. PandoraBox Call-for-Action:</h1>"
   ]
  },
  {
   "cell_type": "code",
   "execution_count": null,
   "metadata": {},
   "outputs": [],
   "source": [
    "# PandoraBox output\n",
    "take_action_list = []\n",
    "\n",
    "for target in targets_map:\n",
    "    if(len(targets_map[target]) >= 4):\n",
    "        take_action_list.append(target)\n",
    "\n",
    "if take_action_list:\n",
    "    for target in take_action_list:\n",
    "        print(\"Call for Action: \", targets_map[target])\n",
    "else:\n",
    "    print(\"The threshold is not crossed yet.\")"
   ]
  },
  {
   "cell_type": "markdown",
   "metadata": {},
   "source": [
    "<img src=\"./images/5.jpeg\" alt=\"Scale\" style=\"width: 1000px;\" align='left'/>"
   ]
  },
  {
   "cell_type": "markdown",
   "metadata": {},
   "source": [
    "The users how received this 'Call-for-Action' message, have to submit to the police adderss:\n",
    "* private-key \n",
    "* transaction-hash"
   ]
  },
  {
   "cell_type": "markdown",
   "metadata": {},
   "source": [
    "<h1>6. Police-Decryption:</h1>"
   ]
  },
  {
   "cell_type": "code",
   "execution_count": null,
   "metadata": {},
   "outputs": [],
   "source": [
    "# Police input\n",
    "the_key = \"a4a64d1bcb01c9ceefa2e41a7dbbaf49f180a9d755b7bd2fc1501b5991e009d3\" # the user private-key \n",
    "encrypted_complaint_form = \"e40161b02097f177de7bb6915d616cca992e3f9993b1c46c963d76608685937e\""
   ]
  },
  {
   "cell_type": "code",
   "execution_count": null,
   "metadata": {},
   "outputs": [],
   "source": [
    "# Police output\n",
    "ciphertext = binascii.unhexlify((encrypted_complaint_form).encode(\"utf-8\"))\n",
    "police_key = pbkdf2.PBKDF2(the_key, \"passwordSalt\").read(32)\n",
    "police_aes = pyaes.AESModeOfOperationCTR(police_key, pyaes.Counter(iv))\n",
    "decrypted = police_aes.decrypt(ciphertext)\n",
    "\n",
    "print('Decrypted:', str(decrypted)[2:-1])"
   ]
  },
  {
   "cell_type": "markdown",
   "metadata": {},
   "source": [
    "<h1>7. Police call to the users:</h>"
   ]
  },
  {
   "cell_type": "markdown",
   "metadata": {},
   "source": [
    "<img src=\"./images/6.png\" alt=\"Scale\" style=\"width: 250px;\" align='left'/>\n",
    "<br><br><b><h1>The End!</h></b>\n",
    "~ Thanks for your time :)"
   ]
  }
 ],
 "metadata": {
  "kernelspec": {
   "display_name": "Python 3",
   "language": "python",
   "name": "python3"
  },
  "language_info": {
   "codemirror_mode": {
    "name": "ipython",
    "version": 3
   },
   "file_extension": ".py",
   "mimetype": "text/x-python",
   "name": "python",
   "nbconvert_exporter": "python",
   "pygments_lexer": "ipython3",
   "version": "3.6.5"
  }
 },
 "nbformat": 4,
 "nbformat_minor": 2
}
